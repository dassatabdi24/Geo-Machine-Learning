{
 "cells": [
  {
   "cell_type": "code",
   "execution_count": 30,
   "outputs": [
    {
     "name": "stderr",
     "text": [
      "C:\\Users\\ASUS\\anaconda3\\envs\\TensorFlow-GPU\\lib\\site-packages\\scipy\\stats\\stats.py:3508: PearsonRConstantInputWarning: An input array is constant; the correlation coefficent is not defined.\n",
      "  warnings.warn(PearsonRConstantInputWarning())\n",
      "C:\\Users\\ASUS\\AppData\\Roaming\\Python\\Python37\\site-packages\\numpy\\lib\\function_base.py:2534: RuntimeWarning: invalid value encountered in true_divide\n",
      "  c /= stddev[:, None]\n",
      "C:\\Users\\ASUS\\anaconda3\\envs\\TensorFlow-GPU\\lib\\site-packages\\scipy\\stats\\_distn_infrastructure.py:903: RuntimeWarning: invalid value encountered in greater\n",
      "  return (a < x) & (x < b)\n",
      "C:\\Users\\ASUS\\anaconda3\\envs\\TensorFlow-GPU\\lib\\site-packages\\scipy\\stats\\_distn_infrastructure.py:903: RuntimeWarning: invalid value encountered in less\n",
      "  return (a < x) & (x < b)\n",
      "C:\\Users\\ASUS\\anaconda3\\envs\\TensorFlow-GPU\\lib\\site-packages\\scipy\\stats\\_distn_infrastructure.py:1912: RuntimeWarning: invalid value encountered in less_equal\n",
      "  cond2 = cond0 & (x <= _a)\n",
      "C:\\Users\\ASUS\\AppData\\Roaming\\Python\\Python37\\site-packages\\numpy\\lib\\function_base.py:2535: RuntimeWarning: invalid value encountered in true_divide\n",
      "  c /= stddev[None, :]\n"
     ],
     "output_type": "stream"
    }
   ],
   "source": [
    "import gdal\n",
    "import numpy as np\n",
    "from matplotlib.pyplot import imread\n",
    "import numpy as np\n",
    "from skimage import io\n",
    "import scipy.stats\n",
    "import os\n",
    "#img = io.imread('image.png', as_gray=True)\n",
    "import pandas as pd\n",
    "input_path=\"E:/Thesis/Data/dara/\"\n",
    "table={}\n",
    "table['pearsonrC']=list()\n",
    "table['kendalltauC']=list()\n",
    "table['spearmanrC']=list()\n",
    "table['pearsonrP']=list()\n",
    "table['kendalltauP']=list()\n",
    "table['spearmanrP']=list()\n",
    "def TestAndAppend(Image_x,Image_y):\n",
    "    PC,PP=scipy.stats.pearsonr(Image_x.ravel(), Image_y.ravel())\n",
    "    KC,KP=scipy.stats.kendalltau(Image_x, Image_y)\n",
    "    SC,SP=scipy.stats.spearmanr(Image_x, Image_y, axis=None)\n",
    "    table['pearsonrC'].append(PC)\n",
    "    table['kendalltauC'].append(KP)\n",
    "    table['spearmanrC'].append(SC)\n",
    "    table['pearsonrP'].append(PP)\n",
    "    table['kendalltauP'].append(KP)\n",
    "    table['spearmanrP'].append(SP)\n",
    "for i in range(0,1101,50):\n",
    "    for j in range(0,1401,50):\n",
    "        Image_x  = io.imread(input_path+\"tile_\"+str(i)+\"_\"+str(j)+\".tif\",as_gray=True)\n",
    "        Image_y = io.imread(input_path+\"gtile_\"+str(i)+\"_\"+str(j)+\".tif\",as_gray=True)\n",
    "        TestAndAppend(Image_x,Image_y)"
   ],
   "metadata": {
    "collapsed": false,
    "pycharm": {
     "name": "#%%\n",
     "is_executing": false
    }
   }
  },
  {
   "cell_type": "code",
   "execution_count": 47,
   "outputs": [
    {
     "name": "stdout",
     "text": [
      "(667, 6)\n"
     ],
     "output_type": "stream"
    }
   ],
   "source": [
    "df=pd.DataFrame.from_dict(table)\n",
    "print(df.shape)"
   ],
   "metadata": {
    "collapsed": false,
    "pycharm": {
     "name": "#%%\n",
     "is_executing": false
    }
   }
  },
  {
   "cell_type": "code",
   "execution_count": 45,
   "outputs": [
    {
     "data": {
      "text/plain": "        pearsonrC   kendalltauC  spearmanrC      pearsonrP   kendalltauP  \\\ncount  380.000000  3.800000e+02  380.000000   3.800000e+02  3.800000e+02   \nmean     0.229259  2.449231e-02    0.278514   2.562827e-02  2.449231e-02   \nstd      0.425494  1.161890e-01    0.457397   1.183855e-01  1.161890e-01   \nmin     -0.719016  0.000000e+00   -0.576362   0.000000e+00  0.000000e+00   \n25%     -0.121400  0.000000e+00   -0.123209  1.155212e-301  0.000000e+00   \n50%      0.181027  4.024304e-66    0.207728   1.609190e-69  4.024304e-66   \n75%      0.648905  2.856817e-12    0.787318   4.240413e-11  2.856817e-12   \nmax      0.960722  9.723494e-01    1.000000   9.724979e-01  9.723494e-01   \n\n         spearmanrP  \ncount  3.800000e+02  \nmean   2.379722e-02  \nstd    1.107730e-01  \nmin    0.000000e+00  \n25%    0.000000e+00  \n50%    1.494272e-69  \n75%    9.257000e-13  \nmax    9.723577e-01  ",
      "text/html": "<div>\n<style scoped>\n    .dataframe tbody tr th:only-of-type {\n        vertical-align: middle;\n    }\n\n    .dataframe tbody tr th {\n        vertical-align: top;\n    }\n\n    .dataframe thead th {\n        text-align: right;\n    }\n</style>\n<table border=\"1\" class=\"dataframe\">\n  <thead>\n    <tr style=\"text-align: right;\">\n      <th></th>\n      <th>pearsonrC</th>\n      <th>kendalltauC</th>\n      <th>spearmanrC</th>\n      <th>pearsonrP</th>\n      <th>kendalltauP</th>\n      <th>spearmanrP</th>\n    </tr>\n  </thead>\n  <tbody>\n    <tr>\n      <th>count</th>\n      <td>380.000000</td>\n      <td>3.800000e+02</td>\n      <td>380.000000</td>\n      <td>3.800000e+02</td>\n      <td>3.800000e+02</td>\n      <td>3.800000e+02</td>\n    </tr>\n    <tr>\n      <th>mean</th>\n      <td>0.229259</td>\n      <td>2.449231e-02</td>\n      <td>0.278514</td>\n      <td>2.562827e-02</td>\n      <td>2.449231e-02</td>\n      <td>2.379722e-02</td>\n    </tr>\n    <tr>\n      <th>std</th>\n      <td>0.425494</td>\n      <td>1.161890e-01</td>\n      <td>0.457397</td>\n      <td>1.183855e-01</td>\n      <td>1.161890e-01</td>\n      <td>1.107730e-01</td>\n    </tr>\n    <tr>\n      <th>min</th>\n      <td>-0.719016</td>\n      <td>0.000000e+00</td>\n      <td>-0.576362</td>\n      <td>0.000000e+00</td>\n      <td>0.000000e+00</td>\n      <td>0.000000e+00</td>\n    </tr>\n    <tr>\n      <th>25%</th>\n      <td>-0.121400</td>\n      <td>0.000000e+00</td>\n      <td>-0.123209</td>\n      <td>1.155212e-301</td>\n      <td>0.000000e+00</td>\n      <td>0.000000e+00</td>\n    </tr>\n    <tr>\n      <th>50%</th>\n      <td>0.181027</td>\n      <td>4.024304e-66</td>\n      <td>0.207728</td>\n      <td>1.609190e-69</td>\n      <td>4.024304e-66</td>\n      <td>1.494272e-69</td>\n    </tr>\n    <tr>\n      <th>75%</th>\n      <td>0.648905</td>\n      <td>2.856817e-12</td>\n      <td>0.787318</td>\n      <td>4.240413e-11</td>\n      <td>2.856817e-12</td>\n      <td>9.257000e-13</td>\n    </tr>\n    <tr>\n      <th>max</th>\n      <td>0.960722</td>\n      <td>9.723494e-01</td>\n      <td>1.000000</td>\n      <td>9.724979e-01</td>\n      <td>9.723494e-01</td>\n      <td>9.723577e-01</td>\n    </tr>\n  </tbody>\n</table>\n</div>"
     },
     "metadata": {},
     "output_type": "execute_result",
     "execution_count": 45
    }
   ],
   "source": [
    "df.describe()"
   ],
   "metadata": {
    "collapsed": false,
    "pycharm": {
     "name": "#%%\n",
     "is_executing": false
    }
   }
  },
  {
   "cell_type": "code",
   "execution_count": 46,
   "outputs": [
    {
     "data": {
      "text/plain": "     pearsonrC    kendalltauC  spearmanrC      pearsonrP    kendalltauP  \\\n2     0.827424   0.000000e+00    0.906625   0.000000e+00   0.000000e+00   \n3     0.811545   0.000000e+00    0.804269   0.000000e+00   0.000000e+00   \n4     0.721364   0.000000e+00    0.841518   0.000000e+00   0.000000e+00   \n8     0.667050   0.000000e+00    0.860589  1.106707e-321   0.000000e+00   \n9     0.516035  2.219209e-224    0.611705  3.375426e-170  2.219209e-224   \n..         ...            ...         ...            ...            ...   \n659   0.645781   0.000000e+00    0.862205  4.808364e-295   0.000000e+00   \n660   0.488558   0.000000e+00    0.958309  3.841757e-150   0.000000e+00   \n661   0.851340   0.000000e+00    0.914120   0.000000e+00   0.000000e+00   \n662   0.896392   0.000000e+00    0.954194   0.000000e+00   0.000000e+00   \n663   0.919024   0.000000e+00    0.957229   0.000000e+00   0.000000e+00   \n\n        spearmanrP  \n2     0.000000e+00  \n3     0.000000e+00  \n4     0.000000e+00  \n8     0.000000e+00  \n9    1.511270e-256  \n..             ...  \n659   0.000000e+00  \n660   0.000000e+00  \n661   0.000000e+00  \n662   0.000000e+00  \n663   0.000000e+00  \n\n[142 rows x 6 columns]",
      "text/html": "<div>\n<style scoped>\n    .dataframe tbody tr th:only-of-type {\n        vertical-align: middle;\n    }\n\n    .dataframe tbody tr th {\n        vertical-align: top;\n    }\n\n    .dataframe thead th {\n        text-align: right;\n    }\n</style>\n<table border=\"1\" class=\"dataframe\">\n  <thead>\n    <tr style=\"text-align: right;\">\n      <th></th>\n      <th>pearsonrC</th>\n      <th>kendalltauC</th>\n      <th>spearmanrC</th>\n      <th>pearsonrP</th>\n      <th>kendalltauP</th>\n      <th>spearmanrP</th>\n    </tr>\n  </thead>\n  <tbody>\n    <tr>\n      <th>2</th>\n      <td>0.827424</td>\n      <td>0.000000e+00</td>\n      <td>0.906625</td>\n      <td>0.000000e+00</td>\n      <td>0.000000e+00</td>\n      <td>0.000000e+00</td>\n    </tr>\n    <tr>\n      <th>3</th>\n      <td>0.811545</td>\n      <td>0.000000e+00</td>\n      <td>0.804269</td>\n      <td>0.000000e+00</td>\n      <td>0.000000e+00</td>\n      <td>0.000000e+00</td>\n    </tr>\n    <tr>\n      <th>4</th>\n      <td>0.721364</td>\n      <td>0.000000e+00</td>\n      <td>0.841518</td>\n      <td>0.000000e+00</td>\n      <td>0.000000e+00</td>\n      <td>0.000000e+00</td>\n    </tr>\n    <tr>\n      <th>8</th>\n      <td>0.667050</td>\n      <td>0.000000e+00</td>\n      <td>0.860589</td>\n      <td>1.106707e-321</td>\n      <td>0.000000e+00</td>\n      <td>0.000000e+00</td>\n    </tr>\n    <tr>\n      <th>9</th>\n      <td>0.516035</td>\n      <td>2.219209e-224</td>\n      <td>0.611705</td>\n      <td>3.375426e-170</td>\n      <td>2.219209e-224</td>\n      <td>1.511270e-256</td>\n    </tr>\n    <tr>\n      <th>...</th>\n      <td>...</td>\n      <td>...</td>\n      <td>...</td>\n      <td>...</td>\n      <td>...</td>\n      <td>...</td>\n    </tr>\n    <tr>\n      <th>659</th>\n      <td>0.645781</td>\n      <td>0.000000e+00</td>\n      <td>0.862205</td>\n      <td>4.808364e-295</td>\n      <td>0.000000e+00</td>\n      <td>0.000000e+00</td>\n    </tr>\n    <tr>\n      <th>660</th>\n      <td>0.488558</td>\n      <td>0.000000e+00</td>\n      <td>0.958309</td>\n      <td>3.841757e-150</td>\n      <td>0.000000e+00</td>\n      <td>0.000000e+00</td>\n    </tr>\n    <tr>\n      <th>661</th>\n      <td>0.851340</td>\n      <td>0.000000e+00</td>\n      <td>0.914120</td>\n      <td>0.000000e+00</td>\n      <td>0.000000e+00</td>\n      <td>0.000000e+00</td>\n    </tr>\n    <tr>\n      <th>662</th>\n      <td>0.896392</td>\n      <td>0.000000e+00</td>\n      <td>0.954194</td>\n      <td>0.000000e+00</td>\n      <td>0.000000e+00</td>\n      <td>0.000000e+00</td>\n    </tr>\n    <tr>\n      <th>663</th>\n      <td>0.919024</td>\n      <td>0.000000e+00</td>\n      <td>0.957229</td>\n      <td>0.000000e+00</td>\n      <td>0.000000e+00</td>\n      <td>0.000000e+00</td>\n    </tr>\n  </tbody>\n</table>\n<p>142 rows × 6 columns</p>\n</div>"
     },
     "metadata": {},
     "output_type": "execute_result",
     "execution_count": 46
    }
   ],
   "source": [
    "df[df.spearmanrC >0.5]\n"
   ],
   "metadata": {
    "collapsed": false,
    "pycharm": {
     "name": "#%%\n",
     "is_executing": false
    }
   }
  }
 ],
 "metadata": {
  "kernelspec": {
   "display_name": "Python 3",
   "language": "python",
   "name": "python3"
  },
  "language_info": {
   "codemirror_mode": {
    "name": "ipython",
    "version": 2
   },
   "file_extension": ".py",
   "mimetype": "text/x-python",
   "name": "python",
   "nbconvert_exporter": "python",
   "pygments_lexer": "ipython2",
   "version": "2.7.6"
  },
  "pycharm": {
   "stem_cell": {
    "cell_type": "raw",
    "source": [],
    "metadata": {
     "collapsed": false
    }
   }
  }
 },
 "nbformat": 4,
 "nbformat_minor": 0
}