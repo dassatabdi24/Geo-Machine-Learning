{
 "cells": [
  {
   "cell_type": "code",
   "execution_count": 1,
   "outputs": [
    {
     "data": {
      "text/plain": "esy.osm.pbf.file.File"
     },
     "metadata": {},
     "output_type": "execute_result",
     "execution_count": 1
    }
   ],
   "source": [
    "import esy.osm.pbf\n",
    "osm = esy.osm.pbf.File('E:/Thesis/Data/BD.osm.pbf')\n",
    "type(osm)"
   ],
   "metadata": {
    "collapsed": false,
    "pycharm": {
     "name": "#%%\n",
     "is_executing": false
    }
   }
  },
  {
   "cell_type": "code",
   "execution_count": 2,
   "outputs": [
    {
     "data": {
      "text/plain": "824"
     },
     "metadata": {},
     "output_type": "execute_result",
     "execution_count": 2
    }
   ],
   "source": [
    "parks = [entry for entry in osm if entry.tags.get('leisure') == 'park']\n",
    "len(parks)"
   ],
   "metadata": {
    "collapsed": false,
    "pycharm": {
     "name": "#%%\n",
     "is_executing": false
    }
   }
  },
  {
   "cell_type": "code",
   "execution_count": 3,
   "outputs": [
    {
     "data": {
      "text/plain": "['Shaheed Zia Smriti Complex', 'city municipal park', \"Doctor's Khil\"]"
     },
     "metadata": {},
     "output_type": "execute_result",
     "execution_count": 3
    }
   ],
   "source": [
    "[entry.tags['name'] for entry in parks if 'name' in entry.tags][:3]"
   ],
   "metadata": {
    "collapsed": false,
    "pycharm": {
     "name": "#%%\n",
     "is_executing": false
    }
   }
  },
  {
   "cell_type": "code",
   "execution_count": 5,
   "outputs": [
    {
     "name": "stdout",
     "text": [
      "186025\n"
     ],
     "output_type": "stream"
    }
   ],
   "source": [
    "import osmnx as ox\n",
    "import networkx as nx\n",
    "import plotly.graph_objects as go\n",
    "import numpy as np\n",
    "import ogr\n",
    "from shapely.geometry import *\n",
    "import geopandas as gpd\n",
    "\n",
    "driver=ogr.GetDriverByName('OSM')\n",
    "data = driver.Open('E:/Thesis/Data/BD.osm.pbf')\n",
    "layer = data.GetLayer('points')\n",
    "\n",
    "features=[x for x in layer]\n",
    "print(len(features))"
   ],
   "metadata": {
    "collapsed": false,
    "pycharm": {
     "name": "#%%\n",
     "is_executing": false
    }
   }
  },
  {
   "cell_type": "code",
   "execution_count": 6,
   "outputs": [],
   "source": [
    "data_list=[]\n",
    "for feature in features:\n",
    "    data=feature.ExportToJson(as_object=True)\n",
    "    coords=data['geometry']['coordinates']\n",
    "    shapely_geo=Point(coords[0],coords[1])\n",
    "    name=data['properties']['name']\n",
    "    highway=data['properties']['highway']\n",
    "   \n",
    "    other_tags=data['properties']['other_tags']\n",
    "    if other_tags and 'amenity' in other_tags:\n",
    "        feat=[x for x in other_tags.split(',') if 'amenity' in x][0]\n",
    "        amenity=feat[feat.rfind('>')+2:feat.rfind('\"')]\n",
    "    else:\n",
    "        amenity=None\n",
    "    data_list.append([name,highway,amenity,shapely_geo])\n",
    "gdf=gpd.GeoDataFrame(data_list,columns=['Name','Highway','Amenity','geometry'],crs={'init': 'epsg:4326'}).to_crs(epsg=3310)\n"
   ],
   "metadata": {
    "collapsed": false,
    "pycharm": {
     "name": "#%%\n",
     "is_executing": false
    }
   }
  },
  {
   "cell_type": "code",
   "execution_count": 7,
   "outputs": [
    {
     "data": {
      "text/plain": "                                             Name            Highway  \\\n0                                 দৈনিক বাংলা মোড়               None   \n1                                            None    traffic_signals   \n2                                            None    traffic_signals   \n3                                            None    traffic_signals   \n4                                            None  motorway_junction   \n...                                           ...                ...   \n186020         Shahid Academic School And College               None   \n186021  Haji Abul Hossain Institute of Technology               None   \n186022                        Prachi Medical hall               None   \n186023                           Govment Hospital               None   \n186024                            Karatia Rajbari               None   \n\n         Amenity                          geometry  \n0           None  POINT (-9886457.665 8381526.711)  \n1           None  POINT (-9879157.666 8380588.553)  \n2           None  POINT (-9879461.914 8381565.158)  \n3           None  POINT (-9879493.966 8382939.097)  \n4           None  POINT (-9876875.950 8381474.580)  \n...          ...                               ...  \n186020      None  POINT (-9833409.569 8427422.209)  \n186021      None  POINT (-9829750.805 8432923.070)  \n186022  pharmacy  POINT (-9832692.938 8426469.899)  \n186023  hospital  POINT (-9832738.287 8426435.800)  \n186024      None  POINT (-9832586.922 8426413.294)  \n\n[186025 rows x 4 columns]",
      "text/html": "<div>\n<style scoped>\n    .dataframe tbody tr th:only-of-type {\n        vertical-align: middle;\n    }\n\n    .dataframe tbody tr th {\n        vertical-align: top;\n    }\n\n    .dataframe thead th {\n        text-align: right;\n    }\n</style>\n<table border=\"1\" class=\"dataframe\">\n  <thead>\n    <tr style=\"text-align: right;\">\n      <th></th>\n      <th>Name</th>\n      <th>Highway</th>\n      <th>Amenity</th>\n      <th>geometry</th>\n    </tr>\n  </thead>\n  <tbody>\n    <tr>\n      <th>0</th>\n      <td>দৈনিক বাংলা মোড়</td>\n      <td>None</td>\n      <td>None</td>\n      <td>POINT (-9886457.665 8381526.711)</td>\n    </tr>\n    <tr>\n      <th>1</th>\n      <td>None</td>\n      <td>traffic_signals</td>\n      <td>None</td>\n      <td>POINT (-9879157.666 8380588.553)</td>\n    </tr>\n    <tr>\n      <th>2</th>\n      <td>None</td>\n      <td>traffic_signals</td>\n      <td>None</td>\n      <td>POINT (-9879461.914 8381565.158)</td>\n    </tr>\n    <tr>\n      <th>3</th>\n      <td>None</td>\n      <td>traffic_signals</td>\n      <td>None</td>\n      <td>POINT (-9879493.966 8382939.097)</td>\n    </tr>\n    <tr>\n      <th>4</th>\n      <td>None</td>\n      <td>motorway_junction</td>\n      <td>None</td>\n      <td>POINT (-9876875.950 8381474.580)</td>\n    </tr>\n    <tr>\n      <th>...</th>\n      <td>...</td>\n      <td>...</td>\n      <td>...</td>\n      <td>...</td>\n    </tr>\n    <tr>\n      <th>186020</th>\n      <td>Shahid Academic School And College</td>\n      <td>None</td>\n      <td>None</td>\n      <td>POINT (-9833409.569 8427422.209)</td>\n    </tr>\n    <tr>\n      <th>186021</th>\n      <td>Haji Abul Hossain Institute of Technology</td>\n      <td>None</td>\n      <td>None</td>\n      <td>POINT (-9829750.805 8432923.070)</td>\n    </tr>\n    <tr>\n      <th>186022</th>\n      <td>Prachi Medical hall</td>\n      <td>None</td>\n      <td>pharmacy</td>\n      <td>POINT (-9832692.938 8426469.899)</td>\n    </tr>\n    <tr>\n      <th>186023</th>\n      <td>Govment Hospital</td>\n      <td>None</td>\n      <td>hospital</td>\n      <td>POINT (-9832738.287 8426435.800)</td>\n    </tr>\n    <tr>\n      <th>186024</th>\n      <td>Karatia Rajbari</td>\n      <td>None</td>\n      <td>None</td>\n      <td>POINT (-9832586.922 8426413.294)</td>\n    </tr>\n  </tbody>\n</table>\n<p>186025 rows × 4 columns</p>\n</div>"
     },
     "metadata": {},
     "output_type": "execute_result",
     "execution_count": 7
    }
   ],
   "source": [
    "gdf\n"
   ],
   "metadata": {
    "collapsed": false,
    "pycharm": {
     "name": "#%%\n",
     "is_executing": false
    }
   }
  },
  {
   "cell_type": "code",
   "execution_count": 8,
   "outputs": [
    {
     "data": {
      "text/plain": "(760, 4)"
     },
     "metadata": {},
     "output_type": "execute_result",
     "execution_count": 8
    }
   ],
   "source": [
    "Clinic=gdf[gdf.Amenity.isin(['hospital'])]"
   ],
   "metadata": {
    "collapsed": false,
    "pycharm": {
     "name": "#%%\n",
     "is_executing": false
    }
   }
  },
  {
   "cell_type": "code",
   "execution_count": 9,
   "outputs": [
    {
     "data": {
      "text/plain": "                                                 Name Highway   Amenity  \\\n4779                                  Apollo Hospital    None  hospital   \n4813    M.A.G Osmani Medical College Hospital, Sylhet    None  hospital   \n4823            উত্তরা আধুনিক মেডিকেল কলেজ ও হাসপাতাল    None  hospital   \n4824                                   Uttara Cresent    None  hospital   \n4937                                               PG    None  hospital   \n...                                               ...     ...       ...   \n185908                                  AIMS Hospital    None  hospital   \n185996                       Anuwara General Hospital    None  hospital   \n186009                        Mazumder Nursing Clinic    None  hospital   \n186013                   Dipshikha Infertility Center    None  hospital   \n186023                               Govment Hospital    None  hospital   \n\n                                geometry  \n4779    POINT (-9877799.144 8379803.042)  \n4813    POINT (-9759410.509 8232597.298)  \n4823    POINT (-9870794.466 8383327.807)  \n4824    POINT (-9871606.151 8383340.091)  \n4937    POINT (-9885490.359 8383556.035)  \n...                                  ...  \n185908  POINT (-9881801.946 8380370.301)  \n185996  POINT (-9852370.188 8321925.850)  \n186009  POINT (-9823532.724 8244456.330)  \n186013  POINT (-9823543.834 8244473.226)  \n186023  POINT (-9832738.287 8426435.800)  \n\n[760 rows x 4 columns]",
      "text/html": "<div>\n<style scoped>\n    .dataframe tbody tr th:only-of-type {\n        vertical-align: middle;\n    }\n\n    .dataframe tbody tr th {\n        vertical-align: top;\n    }\n\n    .dataframe thead th {\n        text-align: right;\n    }\n</style>\n<table border=\"1\" class=\"dataframe\">\n  <thead>\n    <tr style=\"text-align: right;\">\n      <th></th>\n      <th>Name</th>\n      <th>Highway</th>\n      <th>Amenity</th>\n      <th>geometry</th>\n    </tr>\n  </thead>\n  <tbody>\n    <tr>\n      <th>4779</th>\n      <td>Apollo Hospital</td>\n      <td>None</td>\n      <td>hospital</td>\n      <td>POINT (-9877799.144 8379803.042)</td>\n    </tr>\n    <tr>\n      <th>4813</th>\n      <td>M.A.G Osmani Medical College Hospital, Sylhet</td>\n      <td>None</td>\n      <td>hospital</td>\n      <td>POINT (-9759410.509 8232597.298)</td>\n    </tr>\n    <tr>\n      <th>4823</th>\n      <td>উত্তরা আধুনিক মেডিকেল কলেজ ও হাসপাতাল</td>\n      <td>None</td>\n      <td>hospital</td>\n      <td>POINT (-9870794.466 8383327.807)</td>\n    </tr>\n    <tr>\n      <th>4824</th>\n      <td>Uttara Cresent</td>\n      <td>None</td>\n      <td>hospital</td>\n      <td>POINT (-9871606.151 8383340.091)</td>\n    </tr>\n    <tr>\n      <th>4937</th>\n      <td>PG</td>\n      <td>None</td>\n      <td>hospital</td>\n      <td>POINT (-9885490.359 8383556.035)</td>\n    </tr>\n    <tr>\n      <th>...</th>\n      <td>...</td>\n      <td>...</td>\n      <td>...</td>\n      <td>...</td>\n    </tr>\n    <tr>\n      <th>185908</th>\n      <td>AIMS Hospital</td>\n      <td>None</td>\n      <td>hospital</td>\n      <td>POINT (-9881801.946 8380370.301)</td>\n    </tr>\n    <tr>\n      <th>185996</th>\n      <td>Anuwara General Hospital</td>\n      <td>None</td>\n      <td>hospital</td>\n      <td>POINT (-9852370.188 8321925.850)</td>\n    </tr>\n    <tr>\n      <th>186009</th>\n      <td>Mazumder Nursing Clinic</td>\n      <td>None</td>\n      <td>hospital</td>\n      <td>POINT (-9823532.724 8244456.330)</td>\n    </tr>\n    <tr>\n      <th>186013</th>\n      <td>Dipshikha Infertility Center</td>\n      <td>None</td>\n      <td>hospital</td>\n      <td>POINT (-9823543.834 8244473.226)</td>\n    </tr>\n    <tr>\n      <th>186023</th>\n      <td>Govment Hospital</td>\n      <td>None</td>\n      <td>hospital</td>\n      <td>POINT (-9832738.287 8426435.800)</td>\n    </tr>\n  </tbody>\n</table>\n<p>760 rows × 4 columns</p>\n</div>"
     },
     "metadata": {},
     "output_type": "execute_result",
     "execution_count": 9
    }
   ],
   "source": [
    "Clinic"
   ],
   "metadata": {
    "collapsed": false,
    "pycharm": {
     "name": "#%%\n",
     "is_executing": false
    }
   }
  },
  {
   "cell_type": "code",
   "execution_count": 27,
   "outputs": [
    {
     "data": {
      "text/plain": "(760, 4)"
     },
     "metadata": {},
     "output_type": "execute_result",
     "execution_count": 27
    }
   ],
   "source": [
    "Clinic.shape\n"
   ],
   "metadata": {
    "collapsed": false,
    "pycharm": {
     "name": "#%%\n",
     "is_executing": false
    }
   }
  }
 ],
 "metadata": {
  "kernelspec": {
   "name": "pycharm-8c8aef3",
   "language": "python",
   "display_name": "PyCharm (Test)"
  },
  "language_info": {
   "codemirror_mode": {
    "name": "ipython",
    "version": 2
   },
   "file_extension": ".py",
   "mimetype": "text/x-python",
   "name": "python",
   "nbconvert_exporter": "python",
   "pygments_lexer": "ipython2",
   "version": "2.7.6"
  },
  "pycharm": {
   "stem_cell": {
    "cell_type": "raw",
    "source": [
     "\n"
    ],
    "metadata": {
     "collapsed": false
    }
   }
  }
 },
 "nbformat": 4,
 "nbformat_minor": 0
}