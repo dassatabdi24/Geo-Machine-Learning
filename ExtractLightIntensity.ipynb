{
 "cells": [
  {
   "cell_type": "code",
   "execution_count": 1,
   "metadata": {
    "collapsed": true,
    "pycharm": {
     "is_executing": false
    }
   },
   "outputs": [],
   "source": [
    "from osgeo import gdal\n",
    "import os\n",
    "\n",
    "import numpy as np\n",
    "\n",
    "import seaborn as sns\n",
    "from osgeo import gdal\n",
    "\n",
    "import matplotlib.pylab as plt\n",
    "all_path2016='E:/Thesis/Data/bgd_/Original/F182010.v4d_web.stable_lights.avg_vis.tif'\n",
    "ds = gdal.Open(all_path2016)"
   ]
  },
  {
   "cell_type": "code",
   "execution_count": 2,
   "outputs": [
    {
     "name": "stdout",
     "text": [
      "(726, 562)\n",
      "uint8\n",
      "408012\n"
     ],
     "output_type": "stream"
    }
   ],
   "source": [
    "#extract light intensity data\n",
    "img = np.array(ds.GetRasterBand(1).ReadAsArray())\n",
    "#formatting light intensity data\n",
    "arr = img.reshape((1,img.size))\n",
    "\n",
    "print(img.shape)\n",
    "print(img.dtype)\n",
    "print(img.size)"
   ],
   "metadata": {
    "collapsed": false,
    "pycharm": {
     "name": "#%%\n",
     "is_executing": false
    }
   }
  },
  {
   "cell_type": "code",
   "execution_count": 3,
   "outputs": [
    {
     "data": {
      "text/plain": "<Figure size 432x288 with 1 Axes>",
      "image/png": "[encoded data removed]"
     },
     "metadata": {},
     "output_type": "display_data"
    }
   ],
   "source": [
    "with plt.style.context(('ggplot')):\n",
    "    sns.kdeplot(arr[0],shade=True)\n",
    "\n"
   ],
   "metadata": {
    "collapsed": false,
    "pycharm": {
     "name": "#%%\n",
     "is_executing": false
    }
   }
  },
  {
   "cell_type": "code",
   "execution_count": 4,
   "outputs": [
    {
     "name": "stdout",
     "text": [
      "(4683, 5418)\n",
      "uint8\n",
      "25372494\n"
     ],
     "output_type": "stream"
    }
   ],
   "source": [
    "path_brazil='E:\\Thesis\\Data\\BRA_\\Original\\F182010.v4d_web.stable_lights.avg_vis.tif'\n",
    "ds1 = gdal.Open(path_brazil)\n",
    "#extract light intensity data\n",
    "img1 = np.array(ds1.GetRasterBand(1).ReadAsArray())\n",
    "#formatting light intensity data\n",
    "arr2 = img1.reshape((1,img1.size))\n",
    "print(img1.shape)\n",
    "print(img1.dtype)\n",
    "print(img1.size)"
   ],
   "metadata": {
    "collapsed": false,
    "pycharm": {
     "name": "#%%\n",
     "is_executing": false
    }
   }
  },
  {
   "cell_type": "code",
   "execution_count": 5,
   "outputs": [
    {
     "data": {
      "text/plain": "<Figure size 432x288 with 1 Axes>",
      "image/png": "[encoded data removed]"
     },
     "metadata": {},
     "output_type": "display_data"
    }
   ],
   "source": [
    "with plt.style.context('ggplot'):\n",
    "    sns.kdeplot(arr2[0],shade=True)"
   ],
   "metadata": {
    "collapsed": false,
    "pycharm": {
     "name": "#%%\n",
     "is_executing": false
    }
   }
  },
  {
   "cell_type": "code",
   "execution_count": null,
   "outputs": [],
   "source": [
    "\n",
    "\n"
   ],
   "metadata": {
    "collapsed": false,
    "pycharm": {
     "name": "#%%\n",
     "is_executing": false
    }
   }
  }
 ],
 "metadata": {
  "kernelspec": {
   "name": "pycharm-8c8aef3",
   "language": "python",
   "display_name": "PyCharm (Test)"
  },
  "language_info": {
   "codemirror_mode": {
    "name": "ipython",
    "version": 2
   },
   "file_extension": ".py",
   "mimetype": "text/x-python",
   "name": "python",
   "nbconvert_exporter": "python",
   "pygments_lexer": "ipython2",
   "version": "2.7.6"
  },
  "pycharm": {
   "stem_cell": {
    "cell_type": "raw",
    "source": [],
    "metadata": {
     "collapsed": false
    }
   }
  }
 },
 "nbformat": 4,
 "nbformat_minor": 0
}