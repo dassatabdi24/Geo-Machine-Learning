{
 "cells": [
  {
   "cell_type": "code",
   "execution_count": 1,
   "metadata": {
    "collapsed": true,
    "pycharm": {
     "is_executing": false
    }
   },
   "outputs": [],
   "source": [
    "import gdal\n",
    "import numpy as np\n",
    "from matplotlib.pyplot import imread\n",
    "import numpy as np\n",
    "from skimage import io\n",
    "import scipy.stats\n",
    "import os\n",
    "#img = io.imread('image.png', as_gray=True)\n",
    "import pandas as pd\n",
    "input_path100=\"E:/Thesis/Data/roads/\"\n",
    "input_path50=\"E:/Thesis/Data/roads1/\"\n",
    "input_path200=\"E:/Thesis/Data/roads2/\"\n",
    "table={}\n",
    "table['spearmanrC']=list()\n",
    "#table['pearsonrP']=list()\n",
    "#table['kendalltauP']=list()\n",
    "#table['spearmanrP']=list()\n",
    "table['ran']=list()"
   ]
  },
  {
   "cell_type": "code",
   "execution_count": 2,
   "outputs": [
    {
     "name": "stdout",
     "text": [
      "[-1.0, -0.99, -0.98, -0.97, -0.96, -0.9500000000000001, -0.9400000000000001, -0.93, -0.92, -0.91, -0.9, -0.89, -0.88, -0.87, -0.86, -0.85, -0.84, -0.8300000000000001, -0.8200000000000001, -0.81, -0.8, -0.79, -0.78, -0.77, -0.76, -0.75, -0.74, -0.73, -0.72, -0.71, -0.7000000000000001, -0.6900000000000001, -0.68, -0.67, -0.66, -0.65, -0.64, -0.63, -0.62, -0.61, -0.6, -0.59, -0.58, -0.5700000000000001, -0.56, -0.55, -0.54, -0.53, -0.52, -0.51, -0.5, -0.49, -0.48, -0.47000000000000003, -0.46, -0.45, -0.44, -0.43, -0.42, -0.41000000000000003, -0.4, -0.39, -0.38, -0.37, -0.36, -0.35000000000000003, -0.34, -0.33, -0.32, -0.31, -0.3, -0.29, -0.28, -0.27, -0.26, -0.25, -0.24, -0.23, -0.22, -0.21, -0.2, -0.19, -0.18, -0.17, -0.16, -0.15, -0.14, -0.13, -0.12, -0.11, -0.1, -0.09, -0.08, -0.07, -0.06, -0.05, -0.04, -0.03, -0.02, -0.01, 0.0, 0.01, 0.02, 0.03, 0.04, 0.05, 0.06, 0.07, 0.08, 0.09, 0.1, 0.11, 0.12, 0.13, 0.14, 0.15, 0.16, 0.17, 0.18, 0.19, 0.2, 0.21, 0.22, 0.23, 0.24, 0.25, 0.26, 0.27, 0.28, 0.29, 0.3, 0.31, 0.32, 0.33, 0.34, 0.35000000000000003, 0.36, 0.37, 0.38, 0.39, 0.4, 0.41000000000000003, 0.42, 0.43, 0.44, 0.45, 0.46, 0.47000000000000003, 0.48, 0.49, 0.5, 0.51, 0.52, 0.53, 0.54, 0.55, 0.56, 0.5700000000000001, 0.58, 0.59, 0.6, 0.61, 0.62, 0.63, 0.64, 0.65, 0.66, 0.67, 0.68, 0.6900000000000001, 0.7000000000000001, 0.71, 0.72, 0.73, 0.74, 0.75, 0.76, 0.77, 0.78, 0.79, 0.8, 0.81, 0.8200000000000001, 0.8300000000000001, 0.84, 0.85, 0.86, 0.87, 0.88, 0.89, 0.9, 0.91, 0.92, 0.93, 0.9400000000000001, 0.9500000000000001, 0.96, 0.97, 0.98, 0.99, 1.0]\n"
     ],
     "output_type": "stream"
    }
   ],
   "source": [
    "t1={}\n",
    "t1['range']=list()\n",
    "for i in range(-100,101,1):\n",
    "    t1['range'].append(i*0.01)\n",
    "print(t1['range'])\n",
    "#print(len(t1['freq']))\n",
    "#print(len(t1['range']))"
   ],
   "metadata": {
    "collapsed": false,
    "pycharm": {
     "name": "#%%\n",
     "is_executing": false
    }
   }
  },
  {
   "cell_type": "code",
   "execution_count": 3,
   "outputs": [],
   "source": [
    "def TestAndAppend(Image_x,Image_y):\n",
    "    SC,SP=scipy.stats.kendalltau(Image_x, Image_y)\n",
    "    table['spearmanrC'].append(SC)\n",
    "    if(np.isnan(SC)):\n",
    "        table['ran'].append(-2.0)\n",
    "    else:\n",
    "        for j in range (202):\n",
    "            if(SC<t1['range'][j]):\n",
    "                table['ran'].append((t1['range'][j]))\n",
    "                break"
   ],
   "metadata": {
    "collapsed": false,
    "pycharm": {
     "name": "#%%\n",
     "is_executing": false
    }
   }
  },
  {
   "cell_type": "code",
   "execution_count": 4,
   "outputs": [],
   "source": [
    "def DF(table):\n",
    "    df=pd.DataFrame.from_dict(table)\n",
    "    print(df.shape)\n",
    "    print(df.describe())\n",
    "    print(df.head())\n",
    "    return df\n",
    "def HIST_null(df):\n",
    "    df.ran.hist()\n",
    "    df1=df.groupby('ran').size().reset_index(name='Size')\n",
    "    return df1\n",
    "def HIST(df):\n",
    "    df=df.drop(df.index[0])\n",
    "    df.ran.hist()\n",
    "    return df\n"
   ],
   "metadata": {
    "collapsed": false,
    "pycharm": {
     "name": "#%%\n",
     "is_executing": false
    }
   }
  },
  {
   "cell_type": "code",
   "execution_count": 5,
   "outputs": [],
   "source": [
    "def TEST(x,input_path):\n",
    "    for i in range(0,1101,x):\n",
    "         for j in range(0,1401,x):\n",
    "            Image_x  = io.imread(input_path+\"tile_\"+str(i)+\"_\"+str(j)+\".tif\",as_gray=True)\n",
    "            Image_y = io.imread(input_path+\"gtile_\"+str(i)+\"_\"+str(j)+\".tif\",as_gray=True)\n",
    "            TestAndAppend(Image_x,Image_y)"
   ],
   "metadata": {
    "collapsed": false,
    "pycharm": {
     "name": "#%%\n",
     "is_executing": false
    }
   }
  },
  {
   "cell_type": "code",
   "execution_count": 6,
   "outputs": [],
   "source": [
    "TEST(50,input_path50)"
   ],
   "metadata": {
    "collapsed": false,
    "pycharm": {
     "name": "#%%\n",
     "is_executing": false
    }
   }
  },
  {
   "cell_type": "code",
   "execution_count": 7,
   "outputs": [
    {
     "name": "stdout",
     "text": [
      "(667, 2)\n",
      "       spearmanrC         ran\n",
      "count  316.000000  667.000000\n",
      "mean     0.280794   -0.917166\n",
      "std      0.178364    1.148639\n",
      "min     -0.105450   -2.000000\n",
      "25%      0.173140   -2.000000\n",
      "50%      0.275081   -2.000000\n",
      "75%      0.362531    0.270000\n",
      "max      0.999600    1.000000\n",
      "   spearmanrC   ran\n",
      "0         NaN -2.00\n",
      "1         NaN -2.00\n",
      "2    0.318920  0.32\n",
      "3    0.310956  0.32\n",
      "4    0.624864  0.63\n"
     ],
     "output_type": "stream"
    },
    {
     "data": {
      "text/plain": "<Figure size 432x288 with 1 Axes>",
      "image/png": "[encoded data removed]"
     },
     "metadata": {
      "needs_background": "light"
     },
     "output_type": "display_data"
    }
   ],
   "source": [
    "#df.pearsonrC.hist()\n",
    "df=DF(table)\n",
    "df51=HIST_null(df)\n"
   ],
   "metadata": {
    "collapsed": false,
    "pycharm": {
     "name": "#%%\n",
     "is_executing": false
    }
   }
  },
  {
   "cell_type": "code",
   "execution_count": 8,
   "outputs": [
    {
     "data": {
      "text/plain": "<Figure size 432x288 with 1 Axes>",
      "image/png": "[encoded data removed]"
     },
     "metadata": {
      "needs_background": "light"
     },
     "output_type": "display_data"
    }
   ],
   "source": [
    "df52=HIST(df51)"
   ],
   "metadata": {
    "collapsed": false,
    "pycharm": {
     "name": "#%%\n",
     "is_executing": false
    }
   }
  },
  {
   "cell_type": "code",
   "execution_count": 9,
   "outputs": [],
   "source": [
    "table['spearmanrC'].clear()\n",
    "table['ran'].clear()\n",
    "TEST(100,input_path100)"
   ],
   "metadata": {
    "collapsed": false,
    "pycharm": {
     "name": "#%%\n",
     "is_executing": false
    }
   }
  },
  {
   "cell_type": "code",
   "execution_count": 10,
   "outputs": [
    {
     "name": "stdout",
     "text": [
      "(180, 2)\n",
      "       spearmanrC         ran\n",
      "count  104.000000  180.000000\n",
      "mean     0.288131   -0.675167\n",
      "std      0.156083    1.141862\n",
      "min      0.014909   -2.000000\n",
      "25%      0.187722   -2.000000\n",
      "50%      0.270453    0.155000\n",
      "75%      0.343063    0.290000\n",
      "max      0.801089    0.810000\n",
      "   spearmanrC   ran\n",
      "0    0.431900  0.44\n",
      "1    0.147390  0.15\n",
      "2    0.503387  0.51\n",
      "3    0.648985  0.65\n",
      "4    0.252608  0.26\n"
     ],
     "output_type": "stream"
    },
    {
     "data": {
      "text/plain": "<Figure size 432x288 with 1 Axes>",
      "image/png": "[encoded data removed]"
     },
     "metadata": {
      "needs_background": "light"
     },
     "output_type": "display_data"
    }
   ],
   "source": [
    "df100=DF(table)\n",
    "df101=HIST_null(df100)"
   ],
   "metadata": {
    "collapsed": false,
    "pycharm": {
     "name": "#%%\n",
     "is_executing": false
    }
   }
  },
  {
   "cell_type": "code",
   "execution_count": 11,
   "outputs": [
    {
     "data": {
      "text/plain": "<Figure size 432x288 with 1 Axes>",
      "image/png": "[encoded data removed]"
     },
     "metadata": {
      "needs_background": "light"
     },
     "output_type": "display_data"
    }
   ],
   "source": [
    "df102=HIST(df101)"
   ],
   "metadata": {
    "collapsed": false,
    "pycharm": {
     "name": "#%%\n",
     "is_executing": false
    }
   }
  },
  {
   "cell_type": "code",
   "execution_count": 12,
   "outputs": [],
   "source": [
    "table['spearmanrC'].clear()\n",
    "table['ran'].clear()\n",
    "TEST(200,input_path200)"
   ],
   "metadata": {
    "collapsed": false,
    "pycharm": {
     "name": "#%%\n",
     "is_executing": false
    }
   }
  },
  {
   "cell_type": "code",
   "execution_count": 13,
   "outputs": [
    {
     "name": "stdout",
     "text": [
      "(48, 2)\n",
      "       spearmanrC        ran\n",
      "count   34.000000  48.000000\n",
      "mean     0.269809  -0.388958\n",
      "std      0.093971   1.047740\n",
      "min      0.064391  -2.000000\n",
      "25%      0.221907  -2.000000\n",
      "50%      0.257506   0.235000\n",
      "75%      0.321925   0.295000\n",
      "max      0.468933   0.470000\n",
      "   spearmanrC   ran\n",
      "0    0.246519  0.25\n",
      "1    0.322462  0.33\n",
      "2    0.243777  0.25\n",
      "3    0.441468  0.45\n",
      "4    0.458870  0.46\n"
     ],
     "output_type": "stream"
    },
    {
     "data": {
      "text/plain": "<Figure size 432x288 with 1 Axes>",
      "image/png": "[encoded data removed]"
     },
     "metadata": {
      "needs_background": "light"
     },
     "output_type": "display_data"
    }
   ],
   "source": [
    "df200=DF(table)\n",
    "df201=HIST_null(df200)"
   ],
   "metadata": {
    "collapsed": false,
    "pycharm": {
     "name": "#%%\n",
     "is_executing": false
    }
   }
  },
  {
   "cell_type": "code",
   "execution_count": 14,
   "outputs": [
    {
     "data": {
      "text/plain": "<Figure size 432x288 with 1 Axes>",
      "image/png": "[encoded data removed]"
     },
     "metadata": {
      "needs_background": "light"
     },
     "output_type": "display_data"
    }
   ],
   "source": [
    "df202=HIST(df201)\n"
   ],
   "metadata": {
    "collapsed": false,
    "pycharm": {
     "name": "#%%\n",
     "is_executing": false
    }
   }
  },
  {
   "cell_type": "code",
   "execution_count": 15,
   "outputs": [
    {
     "data": {
      "text/plain": "<Figure size 432x288 with 1 Axes>",
      "image/png": "[encoded data removed]"
     },
     "metadata": {
      "needs_background": "light"
     },
     "output_type": "display_data"
    }
   ],
   "source": [
    "import seaborn as sns\n",
    "import matplotlib.pyplot as plt\n",
    "a=df51['Size'].iloc[0]\n",
    "b=df101['Size'].iloc[0]\n",
    "c=df201['Size'].iloc[0]\n",
    "d =[ {\n",
    "  \"50\": a,\n",
    "  \"100\":b,\n",
    "  \"200\":c\n",
    "}]\n",
    "pd.DataFrame(d, index=[0]).plot(kind='bar')\n",
    "plt.show()\n",
    "\n",
    "\n",
    "\n"
   ],
   "metadata": {
    "collapsed": false,
    "pycharm": {
     "name": "#%%\n",
     "is_executing": false
    }
   }
  },
  {
   "cell_type": "code",
   "execution_count": 30,
   "outputs": [
    {
     "data": {
      "text/plain": "<Figure size 432x288 with 1 Axes>",
      "image/png": "[encoded data removed]"
     },
     "metadata": {
      "needs_background": "light"
     },
     "output_type": "display_data"
    }
   ],
   "source": [
    "d1 =[ {\n",
    "  \"50\": 0.5262,\n",
    "  \"100\":0.4222,\n",
    "  \"200\":0.2916\n",
    "}]\n",
    "pd.DataFrame(d1, index=[0]).plot(kind='bar')\n",
    "plt.show()\n",
    "\n",
    "\n",
    "\n",
    "\n",
    "\n"
   ],
   "metadata": {
    "collapsed": false,
    "pycharm": {
     "name": "#%%\n",
     "is_executing": false
    }
   }
  }
 ],
 "metadata": {
  "kernelspec": {
   "display_name": "Python 3",
   "language": "python",
   "name": "python3"
  },
  "language_info": {
   "codemirror_mode": {
    "name": "ipython",
    "version": 2
   },
   "file_extension": ".py",
   "mimetype": "text/x-python",
   "name": "python",
   "nbconvert_exporter": "python",
   "pygments_lexer": "ipython2",
   "version": "2.7.6"
  },
  "pycharm": {
   "stem_cell": {
    "cell_type": "raw",
    "source": [],
    "metadata": {
     "collapsed": false
    }
   }
  }
 },
 "nbformat": 4,
 "nbformat_minor": 0
}