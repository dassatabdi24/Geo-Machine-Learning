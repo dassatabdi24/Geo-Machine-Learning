{
 "cells": [
  {
   "cell_type": "code",
   "execution_count": 9,
   "metadata": {
    "collapsed": true,
    "pycharm": {
     "is_executing": false
    }
   },
   "outputs": [
    {
     "name": "stdout",
     "text": [
      "hello\n",
      "E:/Thesis/Data/Bangladesh/bgd_admbnda_adm0_bbs_20180410.shp\n",
      "F182010.v4d_web.stable_lights.avg_vis.tif\n",
      "E:/Thesis/Data/bgd_/Original\n"
     ],
     "output_type": "stream"
    }
   ],
   "source": [
    "from builtins import filter\n",
    "\n",
    "import fiona\n",
    "import rasterio.mask\n",
    "import os\n",
    "\n",
    "\n",
    "file_path_input_shp_file = 'E:/Thesis/Data/Bangladesh'\n",
    "file_path_input = 'E:/Thesis/Data/F182010.v4/F182010.v4d_web.stable_lights.avg_vis.tif'\n",
    "print(\"hello\")\n",
    "for file in os.listdir(file_path_input_shp_file):\n",
    "    # Reads shape fileconda install -c conda-forge gdal\n",
    "    if file.endswith('shp'):\n",
    "        file_name = file[0:4]\n",
    "        print(file_path_input_shp_file+\"/\"+file)\n",
    "        with fiona.open(file_path_input_shp_file+'/'+file, \"r\") as shapefile:\n",
    "            features = [feature[\"geometry\"] for feature in shapefile]\n",
    "\n",
    "        # Store output file\n",
    "        file_path_output = 'E:/Thesis/Data/'+file_name+'/Original'\n",
    "        if not os.path.exists(file_path_output):\n",
    "            os.makedirs(file_path_output)\n",
    "\n",
    "        # Read all the images, filter out by .tif extension\n",
    "        for file in os.listdir(file_path_input):\n",
    "            if (file.endswith(\".tif\")==False):\n",
    "                continue\n",
    "            print(file)\n",
    "            with rasterio.open(file_path_input+\"/\"+file) as src:\n",
    "                out_image, out_transform = rasterio.mask.mask(src, features, crop=True)\n",
    "                out_meta = src.meta.copy()\n",
    "\n",
    "            out_meta.update({\"driver\": \"GTiff\",\n",
    "                            \"height\": out_image.shape[1],\n",
    "                            \"width\": out_image.shape[2],\n",
    "                            \"transform\": out_transform})\n",
    "\n",
    "        # Write images by shape file\n",
    "            with rasterio.open(file_path_output+\"/\"+file, \"w\", **out_meta) as dest:\n",
    "                dest.write(out_image)\n",
    "                print(file_path_output)\n",
    "\n"
   ]
  },
  {
   "cell_type": "code",
   "execution_count": null,
   "outputs": [],
   "source": [
    "\n"
   ],
   "metadata": {
    "collapsed": false,
    "pycharm": {
     "name": "#%%\n",
     "is_executing": false
    }
   }
  }
 ],
 "metadata": {
  "kernelspec": {
   "name": "pycharm-8c8aef3",
   "language": "python",
   "display_name": "PyCharm (Test)"
  },
  "language_info": {
   "codemirror_mode": {
    "name": "ipython",
    "version": 2
   },
   "file_extension": ".py",
   "mimetype": "text/x-python",
   "name": "python",
   "nbconvert_exporter": "python",
   "pygments_lexer": "ipython2",
   "version": "2.7.6"
  },
  "pycharm": {
   "stem_cell": {
    "cell_type": "raw",
    "source": [],
    "metadata": {
     "collapsed": false
    }
   }
  }
 },
 "nbformat": 4,
 "nbformat_minor": 0
}